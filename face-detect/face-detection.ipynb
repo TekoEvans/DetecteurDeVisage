{
 "cells": [
  {
   "cell_type": "code",
   "execution_count": 1,
   "metadata": {},
   "outputs": [],
   "source": [
    "import cv2 as cv\n"
   ]
  },
  {
   "cell_type": "code",
   "execution_count": 2,
   "metadata": {},
   "outputs": [],
   "source": [
    "#chargement des classificateurs en cascade pré-entrainés\n",
    "face_cascade = cv.CascadeClassifier(\"haarcascade_frontalface_default.xml\")"
   ]
  },
  {
   "cell_type": "code",
   "execution_count": 3,
   "metadata": {},
   "outputs": [
    {
     "name": "stdout",
     "output_type": "stream",
     "text": [
      "Image chargée avec succès.\n",
      "Conversion en niveaux de gris réussie.\n"
     ]
    }
   ],
   "source": [
    "#Chargement des images sur leqeul on va detecter les visages\n",
    "image_path = \"Eklou.jpg\"\n",
    "try:\n",
    "    # Charger l'image\n",
    "    img = cv.imread(image_path)\n",
    "\n",
    "    # Vérifier si l'image a été chargée\n",
    "    if img is not None:\n",
    "        # raise FileNotFoundError(f\"Erreur : Impossible de charger l'image '{image_path}'. Vérifiez le chemin ou le fichier.\")\n",
    "\n",
    "        print(\"Image chargée avec succès.\")\n",
    "\n",
    "    # Convertir en niveaux de gris\n",
    "    gray = cv.cvtColor(img, cv.COLOR_BGR2GRAY)\n",
    "    print(\"Conversion en niveaux de gris réussie.\")\n",
    "\n",
    "except FileNotFoundError as e:\n",
    "    print(e)\n",
    "\n",
    "except cv.error as e:\n",
    "    print(\"Erreur OpenCV :\", e)\n",
    "\n",
    "except Exception as e:\n",
    "    print(\"Une erreur inattendue s'est produite :\", e)\n"
   ]
  },
  {
   "cell_type": "code",
   "execution_count": null,
   "metadata": {},
   "outputs": [
    {
     "name": "stdout",
     "output_type": "stream",
     "text": [
      "[100 555  87  87]\n"
     ]
    }
   ],
   "source": [
    "#Execution de la detection des visages\n",
    "#detectMultiScale(image , scale factor , nombre de voisin)\n",
    "if face_cascade.empty():\n",
    "    print(\"Le classificateur n'a pas été chargé correctement. Vérifiez le chemin.\")\n",
    "    \n",
    "faces = face_cascade.detectMultiScale(gray, 1.1, 8)\n",
    "i = 0\n",
    "for  face in faces:\n",
    "    print(face)\n",
    "    x, y, w, h = face\n",
    "    #delimiter = les visages\n",
    "    cv.rectangle(img, (x, y), (x+w, y+h), (0, 255, 0), 2)\n",
    "    \n",
    "    face = img[y:h+y, x:x+w]\n",
    "    cv.imshow(\"visage{}\".format(i), face)\n",
    "    i += 1\n",
    " #Afficahge de l'image   \n",
    "cv.imshow(\"Mon image\", img) \n",
    "cv.waitKey(0)\n",
    "cv.destroyAll  \n",
    " \n",
    "    "
   ]
  }
 ],
 "metadata": {
  "kernelspec": {
   "display_name": "formation-IA",
   "language": "python",
   "name": "python3"
  },
  "language_info": {
   "codemirror_mode": {
    "name": "ipython",
    "version": 3
   },
   "file_extension": ".py",
   "mimetype": "text/x-python",
   "name": "python",
   "nbconvert_exporter": "python",
   "pygments_lexer": "ipython3",
   "version": "3.11.9"
  }
 },
 "nbformat": 4,
 "nbformat_minor": 2
}
